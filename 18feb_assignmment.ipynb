{
 "cells": [
  {
   "cell_type": "code",
   "execution_count": 1,
   "id": "6a407cc5-4fc5-40c1-8c78-06807cf7ffbc",
   "metadata": {},
   "outputs": [],
   "source": [
    "import logging"
   ]
  },
  {
   "cell_type": "code",
   "execution_count": 3,
   "id": "633300af-b721-4a61-bf40-a0039e975683",
   "metadata": {},
   "outputs": [],
   "source": [
    "logging.basicConfig(filename = \"test2.log\", level = logging.ERROR , format ='%(asctime)s %(name)s %(levelname)s %(message)s'  )"
   ]
  },
  {
   "cell_type": "markdown",
   "id": "c167ad5b-c67e-448d-b214-e441c180845a",
   "metadata": {},
   "source": [
    "#Ans1"
   ]
  },
  {
   "cell_type": "code",
   "execution_count": 4,
   "id": "241cc692-6d0a-4b21-a5f5-d33e5be8f161",
   "metadata": {},
   "outputs": [],
   "source": [
    "logging.error(\"API stands for Application Programming  Interface.It is a set of protocols, routines, and tools that allows different software application to communication with each other.\")\n",
    "logging.error(\"An example of an API being used in real life is the integration of google Maps API into a ride-hailing app like Uber or Lyft. When you request a ride on the app, the app uses the google Maps API to calculate the distance and time to your destination and estimate the fare. The app also uses the API to display a map showing the driver's location and route to your destination in real-time.\")\n"
   ]
  },
  {
   "cell_type": "markdown",
   "id": "7a248b33-33ca-469d-8cfa-8a761e49ee21",
   "metadata": {},
   "source": [
    "#Ans2"
   ]
  },
  {
   "cell_type": "markdown",
   "id": "84c2237c-7865-4d42-9c32-b76590f9cd76",
   "metadata": {},
   "source": [
    "Advantages of using API:\n",
    "\n",
    "1.) Interration: APIs allow different software systems to communicate and excgange data seamlessly, making it easier to integrate with other application.\n",
    "\n",
    "2.) Efficiency: APIs allow for the automation of processes, reducing the need for manual input and saving time and resources.\n",
    "\n",
    "3.)Flexibility: APIs provide developers with the flexibility to bulid custom applications that meet their specific needs, without having to bulid everything from scratch.\n",
    "\n",
    "4.)Scalability: APIs can handle large volumes of data and traffic, making it possible to scale up or down as needed.\n",
    "\n",
    "5.)Innovation: APIs allow for the creation of new services and products, encouraging innovation and expanding the range of possibilities for software development.\n",
    "\n",
    "Disadvantages of using API:\n",
    "\n",
    "1.)Security risks: APIs can be vulnerable to security threats such as hacking, data breaches, and denial-of-service attacks.\n",
    "\n",
    "2.)Complexity: APIs can be complex to set up and maintain, requiring specialized knowledge and resources.\n",
    "\n",
    "3.)Dependence: When relying on APIs, developers become dependent on the provider, and any changes or downtime on the provider's end can affect the functionality of the application.\n",
    "\n",
    "4.)Compatibility: APIs can be incompatible with certain platforms or systems, limiting their usefulness in certain contexts.\n",
    "\n",
    "5.)Cost: Some APIs require payment or licensing fees, which can be a barrier for smaller developers or organizations with limited budgets."
   ]
  },
  {
   "cell_type": "markdown",
   "id": "2cb133d5-b1a2-489a-8588-8b2a8975d8aa",
   "metadata": {},
   "source": [
    "#Ans 3"
   ]
  },
  {
   "cell_type": "markdown",
   "id": "8e7e344b-82cb-4587-93d6-d0be0ad4e511",
   "metadata": {},
   "source": [
    "A WEB API(Application Programming interface) is a type of API that is designed to be accessed over the internet using the HTTP protocol. it allows different software applications, including web application, to interact and communcation with each other over the internet. Web APIs are typically based on web technologies such as REST(Reoresntational State Transfer) and JSON(javascript Object Notation) and provide a standardized way of accessing and exchanging data between application. Web APIs can be used to access data, perform operations, and automate tasks across different applications and systems. They are widely used in web development to integrate different services and functionally into web application, enabling developers to create rich and interactive web experiences.\n",
    "\n",
    "#Differentiate between API or Web API.\n",
    "\n",
    "Api is a set of protocols, routines, and tools for building software and appliaction. it is a set of programming instructions that allows software components to ingteract with each other. APIs specify the way that software components should interact, enabling different applications to communicate and share data with each other.\n",
    "\n",
    "A Web API, on the other hand , is a type of API that is designed to be accessed over the internet using the HTTP Protocol. it provides a standardized way of accessing and exchanging data between different software application over the internet. Web APIs are typically based on web technologies such as REST(Respresntational State Transfer) and JSON and are used to enable communication between different web-based applications.\n",
    "\n",
    "The main difference between API and Web API is that while API can be used for any type of software application, Web API is specifically desgined for web-based applications. Web APIs use web technologies such as HTTP,REST and JSOn to provide a stanardized way of accessing and exchanging data over the internet. In contrast, APIs can be designed for any type of software application and may use different protocols and technologies depending on the requirements of fthe application."
   ]
  },
  {
   "cell_type": "markdown",
   "id": "382a091b-6b7b-4cbb-9119-d7c107656315",
   "metadata": {},
   "source": [
    "#Ans 4"
   ]
  },
  {
   "cell_type": "markdown",
   "id": "531d0904-a162-406b-8357-f6010566f055",
   "metadata": {},
   "source": [
    "REST(Represntational State Transfer) and SOAP(Simple Object Access Protocol) are two popular architectual styles used for building web services.\n",
    "\n",
    "REST is a lightweight, client-server architecture that is designed to be simple and scalable. It uses HTTP methods like GET,POST,PUT,DELETE, etc, to access and manipulate resources identified by URIs(Uniform Resource Identifies). RESTful web services are stateless, meaning that each request contains all the informationa necessary to complete the request, and there is no session state maintained between requests. This makes RESTful web services highly scalable and easy to cache.\n",
    "\n",
    "SOAP, on the other hand, is a protocol-based architecture that is designed to provide a standard way of exchanging structured data between web services. It uses XML as a format for exchanging data and can operate over a variety of transport protocols, including HTTP, SMTP, and more. SOAP messages are typically sent over HTTP, and include a header and a body, with the body containing the actual message data.\n",
    "\n",
    "One of the main shortcomings of SOAP is that it can be quite complex to use, with many different standards and protocols to follow. This can make it difficult to develop and maintain SOAP-based web services. Additionally, SOAP is typically slower than REST, due to the overhead of the XML-based message format and the additional processing required for message validation and security. Finally, SOAP can be more difficult to cache than RESTful web services, due to the stateful nature of SOAP messages.\n",
    "\n",
    "In summary, REST is a lightweight, simple, and scalable architecture that is ideal for building web services that require high scalability and caching. SOAP, on the other hand, is a protocol-based architecture that provides a standard way of exchanging structured data between web services, but can be complex to use and slower than RESTful web services.\n"
   ]
  },
  {
   "cell_type": "markdown",
   "id": "66dd082c-5f41-4ec8-9f55-81f582eddf3f",
   "metadata": {},
   "source": [
    "#Ans5"
   ]
  },
  {
   "cell_type": "markdown",
   "id": "4231edef-89e7-4337-96e0-a19cdc2b55e5",
   "metadata": {},
   "source": [
    "REST (Representational State Transfer) and SOAP (Simple Object Access Protocol) are two different architectural styles used for building web services.\n",
    "\n",
    "REST is a lightweight, client-server architecture that uses HTTP methods like GET, POST, PUT, DELETE, etc., to access and manipulate resources identified by URIs (Uniform Resource Identifiers). RESTful web services are stateless, meaning that each request contains all the information necessary to complete the request, and there is no session state maintained between requests. REST uses simple data formats like JSON (JavaScript Object Notation) and XML (Extensible Markup Language) to transfer data between the client and server.\n",
    "\n",
    "SOAP, on the other hand, is a protocol-based architecture that uses XML (Extensible Markup Language) as a format for exchanging data between web services. SOAP messages are typically sent over HTTP or other transport protocols, and include a header and a body, with the body containing the actual message data. SOAP provides a standard way of exchanging structured data between web services, and supports advanced features like security, transaction management, and message routing.\n",
    "\n",
    "The main differences between REST and SOAP are as follows:\n",
    "\n",
    "Data format: REST uses simple data formats like JSON and XML to transfer data, while SOAP uses XML exclusively.\n",
    "Protocol: REST uses HTTP, while SOAP can operate over a variety of transport protocols, including HTTP, SMTP, and more.\n",
    "Complexity: REST is lightweight and simple, while SOAP can be complex and requires adherence to many different standards and protocols.\n",
    "Statelessness: REST is stateless, while SOAP is stateful."
   ]
  },
  {
   "cell_type": "code",
   "execution_count": null,
   "id": "ca62354c-a9d4-4957-97a9-1601ca12ed1c",
   "metadata": {},
   "outputs": [],
   "source": []
  }
 ],
 "metadata": {
  "kernelspec": {
   "display_name": "Python 3 (ipykernel)",
   "language": "python",
   "name": "python3"
  },
  "language_info": {
   "codemirror_mode": {
    "name": "ipython",
    "version": 3
   },
   "file_extension": ".py",
   "mimetype": "text/x-python",
   "name": "python",
   "nbconvert_exporter": "python",
   "pygments_lexer": "ipython3",
   "version": "3.10.8"
  }
 },
 "nbformat": 4,
 "nbformat_minor": 5
}
